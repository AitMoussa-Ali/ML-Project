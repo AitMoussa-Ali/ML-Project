{
 "cells": [
  {
   "cell_type": "markdown",
   "metadata": {},
   "source": [
    "# Importing libraries"
   ]
  },
  {
   "cell_type": "code",
   "execution_count": 1,
   "metadata": {},
   "outputs": [],
   "source": [
    "import numpy as np\n",
    "import matplotlib.pyplot as plt\n",
    "import pandas as pd"
   ]
  },
  {
   "cell_type": "markdown",
   "metadata": {},
   "source": [
    "# Fetching the dataset"
   ]
  },
  {
   "cell_type": "code",
   "execution_count": 6,
   "metadata": {},
   "outputs": [
    {
     "name": "stdout",
     "output_type": "stream",
     "text": [
      "[-2.000e+02  1.011e+03  1.400e+01  1.300e+00  5.270e+02  2.100e+01\n",
      "  1.818e+03  1.197e+03  4.450e+02  1.010e+01  6.050e+01  7.465e-01]\n"
     ]
    }
   ],
   "source": [
    "dataset = pd.read_csv('AirQualityUCI.csv', sep=';', decimal=',', na_values=['NA', 'NaN', '']) \n",
    "X = dataset.iloc[:, list(range(2, 9)) + list(range(10, 15))].values\n",
    "Y = dataset.iloc[:, 9].values"
   ]
  },
  {
   "cell_type": "markdown",
   "metadata": {},
   "source": [
    "# Taking care of missing data"
   ]
  },
  {
   "cell_type": "code",
   "execution_count": 8,
   "metadata": {},
   "outputs": [
    {
     "name": "stdout",
     "output_type": "stream",
     "text": [
      "[2.15274954e+00 1.01100000e+03 1.40000000e+01 1.30000000e+00\n",
      " 5.27000000e+02 2.10000000e+01 1.81800000e+03 1.19700000e+03\n",
      " 4.45000000e+02 1.01000000e+01 6.05000000e+01 7.46500000e-01]\n"
     ]
    }
   ],
   "source": [
    "from sklearn.impute import SimpleImputer\n",
    "# on remlace les valeurs manquantes par la moyenne\n",
    "imputer = SimpleImputer(missing_values=-200, strategy='mean')\n",
    "imputer.fit(X[:, :])\n",
    "X[:, :] = imputer.transform(X[:, :])"
   ]
  }
 ],
 "metadata": {
  "kernelspec": {
   "display_name": "Python 3",
   "language": "python",
   "name": "python3"
  },
  "language_info": {
   "codemirror_mode": {
    "name": "ipython",
    "version": 3
   },
   "file_extension": ".py",
   "mimetype": "text/x-python",
   "name": "python",
   "nbconvert_exporter": "python",
   "pygments_lexer": "ipython3",
   "version": "3.13.2"
  }
 },
 "nbformat": 4,
 "nbformat_minor": 2
}
